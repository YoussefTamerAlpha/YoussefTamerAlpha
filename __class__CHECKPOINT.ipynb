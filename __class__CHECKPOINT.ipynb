{
  "nbformat": 4,
  "nbformat_minor": 0,
  "metadata": {
    "colab": {
      "name": "__class__CHECKPOINT.ipynb",
      "provenance": []
    },
    "kernelspec": {
      "name": "python3",
      "display_name": "Python 3"
    },
    "language_info": {
      "name": "python"
    }
  },
  "cells": [
    {
      "cell_type": "code",
      "execution_count": 1,
      "metadata": {
        "colab": {
          "base_uri": "https://localhost:8080/"
        },
        "id": "C-pM1uA32Mv0",
        "outputId": "17316a41-e5ab-4631-cdc1-d2a428caefbd"
      },
      "outputs": [
        {
          "output_type": "stream",
          "name": "stdout",
          "text": [
            "(x,y,z) :  (1,2,3)  \n"
          ]
        }
      ],
      "source": [
        "#Question NO.1\n",
        "\n",
        "class Point3D:\n",
        "\n",
        "\n",
        "  def __init__(self,x,y,z):\n",
        "\n",
        "    self.x = x\n",
        "    self.y = y\n",
        "    self.z = z\n",
        "\n",
        "  def my_function(self):\n",
        "\n",
        "    return f\"(x,y,z) :  ({self.x},{self.y},{self.z})  \"\n",
        "\n",
        "my_point = Point3D(1,2,3)\n",
        "\n",
        "print(my_point.my_function())"
      ]
    },
    {
      "cell_type": "code",
      "source": [
        "#Question NO.2\n",
        "\n",
        "\n",
        "class Rectangle:\n",
        "\n",
        "\n",
        "\n",
        "    def __init__(self, length, width):\n",
        "\n",
        "      self.l = length\n",
        "      self.w = width\n",
        "\n",
        "    def area(self):\n",
        "      a = self.l*self.w\n",
        "\n",
        "      return f\"Area : {a}\"\n",
        "\n",
        "    def perimeter(self):\n",
        "\n",
        "      p = 2*(self.l+self.w)\n",
        "\n",
        "      return f\"Perimeter : {p}\"\n",
        "\n",
        "my_rectangle = Rectangle(4,3)\n",
        "\n",
        "print(my_rectangle.area())\n",
        "print(my_rectangle.perimeter())\n"
      ],
      "metadata": {
        "colab": {
          "base_uri": "https://localhost:8080/"
        },
        "id": "_3yzge-U2gR7",
        "outputId": "1c95f393-69e6-4c22-bc51-a26a06f8ce52"
      },
      "execution_count": 2,
      "outputs": [
        {
          "output_type": "stream",
          "name": "stdout",
          "text": [
            "Area : 12\n",
            "Perimeter : 14\n"
          ]
        }
      ]
    },
    {
      "cell_type": "code",
      "source": [
        "#Question 3\n",
        "\n",
        "\n",
        "class Circle:\n",
        "\n",
        "\n",
        "    def __init__(self, O , r , p1 , p2):\n",
        "\n",
        "      self.O = O\n",
        "      self.r = r\n",
        "      self.x = p1\n",
        "      self.y = p2\n",
        "\n",
        "    def area(self):\n",
        "\n",
        "      a = 3.14159265359*(self.r)**2\n",
        "\n",
        "      return f\"area : {a} \"\n",
        "\n",
        "    def perimeter(self):\n",
        "\n",
        "      p = 2*3.14159265359*self.r\n",
        "\n",
        "      return f\"perimeter : {p}\"\n",
        "\n",
        "    def belongs(self):\n",
        "\n",
        "      if  (self.x)**2 +(self.y)**2 == (self.r)**2 :\n",
        "\n",
        "        return f\"point({self.x} , {self.y}) lies inside the circle\"\n",
        "\n",
        "      elif (self.x)**2 +(self.y)**2 < (self.r)**2 :\n",
        "\n",
        "        return f\"point({self.x} , {self.y}) lies inside the circle\"\n",
        "\n",
        "      else :\n",
        "\n",
        "        return f\"point ({self.x} , {self.y}) lies outside the circle \"\n",
        "\n",
        "my_circle1 = Circle(3,0.5,2,1.5)\n",
        "\n",
        "my_circle2 = Circle(3,5,2,1.5)\n",
        "\n",
        "print(my_circle1.area())\n",
        "\n",
        "print(my_circle1.perimeter())\n",
        "\n",
        "print(my_circle1.belongs())\n",
        "\n",
        "print(my_circle2.belongs())\n",
        "\n",
        "#انا مفترض هنا  ان مركز الدايرة احداثياتها (0,0)"
      ],
      "metadata": {
        "colab": {
          "base_uri": "https://localhost:8080/"
        },
        "id": "IaTf5OC12l3p",
        "outputId": "b26d6cc2-63b0-42bb-e64f-f3d545b276b7"
      },
      "execution_count": 5,
      "outputs": [
        {
          "output_type": "stream",
          "name": "stdout",
          "text": [
            "area : 0.7853981633975 \n",
            "perimeter : 3.14159265359\n",
            "point (2 , 1.5) lies outside the circle \n",
            "point(2 , 1.5) lies inside the circle\n"
          ]
        }
      ]
    },
    {
      "cell_type": "code",
      "source": [
        "#Quetion 4\n",
        "\n",
        "\n",
        "\n",
        "class Bank:\n",
        "\n",
        "  \n",
        "\n",
        "  def __init__(self, first_name ,  In , Out, bank_account_mony , gender):\n",
        "\n",
        "    self.deposite = In\n",
        "    self.withdraw = Out  \n",
        "    self.amount = bank_account_mony\n",
        "    self.fname = first_name\n",
        "    self.gender = gender\n",
        "\n",
        "\n",
        "  def Deposite(self):\n",
        "\n",
        "   self.amount += self.deposite \n",
        "\n",
        "   return f\" {self.fname} ,  Now you have {self.amount} in your bank account after the final operation \"\n",
        "\n",
        "  def Withdraw(self):\n",
        "\n",
        "    self.amount -= self.withdraw\n",
        "\n",
        "    return f\" {self.fname} ,  Now you have {self.amount} in your bank account after the final operation \"\n",
        "\n",
        "Ahmed_Diaa_account = Bank( \"Ahmed\",90000,3000,50000, \"male\")\n",
        "\n",
        "print(Ahmed_Diaa_account.Deposite())\n",
        "\n",
        "print(Ahmed_Diaa_account.Withdraw())"
      ],
      "metadata": {
        "colab": {
          "base_uri": "https://localhost:8080/"
        },
        "id": "q3kjYOL12wRa",
        "outputId": "3577be73-be5d-45d1-9622-28196616d1d5"
      },
      "execution_count": 4,
      "outputs": [
        {
          "output_type": "stream",
          "name": "stdout",
          "text": [
            " Ahmed ,  Now you have 140000 in your bank account after the final operation \n",
            " Ahmed ,  Now you have 137000 in your bank account after the final operation \n"
          ]
        }
      ]
    }
  ]
}