{
  "nbformat": 4,
  "nbformat_minor": 0,
  "metadata": {
    "colab": {
      "name": "__Countydown__.ipynb",
      "provenance": []
    },
    "kernelspec": {
      "name": "python3",
      "display_name": "Python 3"
    },
    "language_info": {
      "name": "python"
    }
  },
  "cells": [
    {
      "cell_type": "code",
      "execution_count": 4,
      "metadata": {
        "colab": {
          "base_uri": "https://localhost:8080/"
        },
        "id": "1gjatq4CzKYD",
        "outputId": "2dfb0478-faaa-4138-a34e-fd632dd460af"
      },
      "outputs": [
        {
          "output_type": "stream",
          "name": "stdout",
          "text": [
            "How many seconds?: 5\n",
            " 0:0 \n",
            " Fire in the hole!\n"
          ]
        }
      ],
      "source": [
        "import time\n",
        "\n",
        "seconds = int(input(\"How many seconds?: \"))\n",
        "\n",
        "def countdown(t):\n",
        "  while t>=0:\n",
        "    mins , secs = divmod(t,60)\n",
        "    timeformat = '{}:{}'.format(mins,secs)\n",
        "    print(\"\\r\",timeformat,end=\" \")\n",
        "    time.sleep(1)\n",
        "    t -= 1\n",
        "\n",
        "  print(\"\\n Fire in the hole!\")\n",
        "\n",
        "countdown(seconds)"
      ]
    }
  ]
}