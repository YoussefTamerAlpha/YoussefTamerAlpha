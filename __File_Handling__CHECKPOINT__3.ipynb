{
  "nbformat": 4,
  "nbformat_minor": 0,
  "metadata": {
    "colab": {
      "name": "__File_Handling__CHECKPOINT__3.ipynb",
      "provenance": []
    },
    "kernelspec": {
      "name": "python3",
      "display_name": "Python 3"
    },
    "language_info": {
      "name": "python"
    }
  },
  "cells": [
    {
      "cell_type": "code",
      "source": [
        "# Question NO.1\n",
        "\n",
        "f = open(\"/content/python.txt\")\n",
        "\n",
        "f.readlines()"
      ],
      "metadata": {
        "colab": {
          "base_uri": "https://localhost:8080/"
        },
        "id": "rN0jwSZaFPAj",
        "outputId": "09d0f2d4-9fcf-4384-afd3-2a803d8bac43"
      },
      "execution_count": 8,
      "outputs": [
        {
          "output_type": "execute_result",
          "data": {
            "text/plain": [
              "['What is Python language?                                                \\n',\n",
              " 'Python is a widely used high-level, general-purpose, interpreted, dynamic programming language.Its design philosophy emphasizes code readability, and its syntax allows programmers to express concepts in fewer lines of code than possible in \\n',\n",
              " 'languages such as C++ or Java. \\n',\n",
              " 'Python supports multiple programming paradigms, including object-oriented, imperative and functional programming or procedural styles. It features a dynamic type system and automatic memory management and has a large and comprehensive standard library.The best way we learn anything is by practice and exercise questions. We  have started this section for those (beginner to intermediate) who are familiar with Python.']"
            ]
          },
          "metadata": {},
          "execution_count": 8
        }
      ]
    },
    {
      "cell_type": "code",
      "source": [
        "# Question NO.2\n",
        "\n",
        "f = open(\"/content/python.txt\")\n",
        "\n",
        "x = f.readlines(5)\n",
        "\n",
        "x\n",
        "\n",
        "\n"
      ],
      "metadata": {
        "colab": {
          "base_uri": "https://localhost:8080/"
        },
        "id": "btni7DV1JBrl",
        "outputId": "c1258df4-0979-49a1-efc4-a66fadab2d7b"
      },
      "execution_count": 12,
      "outputs": [
        {
          "output_type": "execute_result",
          "data": {
            "text/plain": [
              "['What is Python language?                                                \\n']"
            ]
          },
          "metadata": {},
          "execution_count": 12
        }
      ]
    },
    {
      "cell_type": "code",
      "execution_count": 7,
      "metadata": {
        "colab": {
          "base_uri": "https://localhost:8080/"
        },
        "id": "Ng1tu1VKToif",
        "outputId": "53fc37b0-9600-40c1-9474-994d089e5370"
      },
      "outputs": [
        {
          "output_type": "stream",
          "name": "stdout",
          "text": [
            "languages such as C++ or Java. \n",
            "\n",
            "Python supports multiple programming paradigms, including object-oriented, imperative and functional programming or procedural styles. It features a dynamic type system and automatic memory management and has a large and comprehensive standard library.The best way we learn anything is by practice and exercise questions. We  have started this section for those (beginner to intermediate) who are familiar with Python.\n"
          ]
        }
      ],
      "source": [
        "# Question NO.3\n",
        "\n",
        "\n",
        "def lastlines(file,n):\n",
        "  with open(file) as f:\n",
        "    for i in (f.readlines() [-n:]):\n",
        "      print(i)\n",
        "lastlines(\"/content/python.txt\",2)\n"
      ]
    },
    {
      "cell_type": "code",
      "source": [
        "# Question NO.4\n",
        "\n",
        "f = open(\"/content/python.txt\")\n",
        "\n",
        "x = f.read()\n",
        "\n",
        "print(len(x.split()))"
      ],
      "metadata": {
        "colab": {
          "base_uri": "https://localhost:8080/"
        },
        "id": "MD2-O9IRHsSE",
        "outputId": "5f7bcc17-4664-4829-a9ac-b4a99bd190ac"
      },
      "execution_count": 9,
      "outputs": [
        {
          "output_type": "stream",
          "name": "stdout",
          "text": [
            "100\n"
          ]
        }
      ]
    }
  ]
}