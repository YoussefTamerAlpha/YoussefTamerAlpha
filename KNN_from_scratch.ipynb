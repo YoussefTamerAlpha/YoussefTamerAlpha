{
  "nbformat": 4,
  "nbformat_minor": 0,
  "metadata": {
    "colab": {
      "provenance": []
    },
    "kernelspec": {
      "name": "python3",
      "display_name": "Python 3"
    },
    "language_info": {
      "name": "python"
    }
  },
  "cells": [
    {
      "cell_type": "code",
      "source": [
        "#import csv\n",
        "#import pandas as pd\n",
        "\n",
        "#with open('/content/iris.data.txt', 'r') as csvfile:\n",
        "\n",
        "#  data = pd.read_csv('/content/iris.data.txt')\n",
        "#  lines = csv.reader(csvfile)\n",
        "\n",
        "#  for row in lines :\n",
        "\n",
        "#    print(', '.join(row))"
      ],
      "metadata": {
        "id": "EvTprmjDqn7P"
      },
      "execution_count": 202,
      "outputs": []
    },
    {
      "cell_type": "code",
      "source": [
        "#data.columns =[\"sepal.length\", \"sepal.width\", \"petal.length\", \"petal.width\" , \"variety\"]"
      ],
      "metadata": {
        "id": "6Od_mnr6k7M2"
      },
      "execution_count": 203,
      "outputs": []
    },
    {
      "cell_type": "code",
      "source": [
        "#data['variety'] = data['variety'].apply(lambda x : x.split('-')[-1].strip())"
      ],
      "metadata": {
        "id": "RyVzhOhgmCAt"
      },
      "execution_count": 204,
      "outputs": []
    },
    {
      "cell_type": "code",
      "source": [
        "#data['variety']=data['variety'].map({'setosa':0,'versicolor':1,'virginica':2})"
      ],
      "metadata": {
        "id": "K0Pbh43mOti_"
      },
      "execution_count": 205,
      "outputs": []
    },
    {
      "cell_type": "code",
      "source": [
        "import random \n",
        "import math\n",
        "import operator\n",
        "import csv \n",
        "import numpy as np "
      ],
      "metadata": {
        "id": "JW8sRkBzyYDS"
      },
      "execution_count": 206,
      "outputs": []
    },
    {
      "cell_type": "code",
      "source": [
        "\n",
        "\n",
        "def loadDataset(filename, split, trainingSet=[] , testSet=[]):    # what does split mean ?\n",
        "\n",
        "  with open(filename, 'r') as csvfile:\n",
        "\n",
        "    lines = csv.reader(csvfile)\n",
        "\n",
        "    dataset = list(lines)\n",
        "\n",
        "    for x in range(len(dataset)-1):\n",
        "\n",
        "       for y in range(4):\n",
        "\n",
        "         dataset[x][y] = float(dataset[x][y])\n",
        "\n",
        "       if random.random() < split:\n",
        "\n",
        "         trainingSet.append(dataset[x])\n",
        "\n",
        "       else:\n",
        " \n",
        "         testSet.append(dataset[x])"
      ],
      "metadata": {
        "id": "UJkt_6iBqrRV"
      },
      "execution_count": 207,
      "outputs": []
    },
    {
      "cell_type": "code",
      "source": [
        "#trainingSet=[]\n",
        "\n",
        "#testSet=[]\n",
        "\n",
        "#loadDataset('/content/iris.data.txt', 0.66, trainingSet, testSet)\n",
        "\n",
        "#print ('Train: ' + repr(len(trainingSet)))\n",
        "\n",
        "#print ('Test: ' + repr(len(testSet)) )"
      ],
      "metadata": {
        "id": "t7QnfOGwqtY4"
      },
      "execution_count": 208,
      "outputs": []
    },
    {
      "cell_type": "code",
      "source": [
        "\n",
        "def euclideanDistance(data_1, data_2, data_len):\n",
        "    dist = 0\n",
        "    for i in range(data_len):\n",
        "        dist = dist + np.square(data_1[i] - data_2[i])\n",
        "    return np.sqrt(dist)"
      ],
      "metadata": {
        "id": "MPSX3RGm1qSf"
      },
      "execution_count": 209,
      "outputs": []
    },
    {
      "cell_type": "code",
      "source": [
        "\n",
        "\n",
        "def getNeighbors(trainingSet, testInstance, k):\n",
        "\n",
        "  distances = []\n",
        "\n",
        "  length = len(testInstance)-1\n",
        "\n",
        "  for x in range(len(trainingSet)):\n",
        "\n",
        "    dist = euclideanDistance(testInstance, trainingSet[x], length)\n",
        "\n",
        "    distances.append((trainingSet[x], dist))\n",
        "\n",
        "    distances.sort(key=operator.itemgetter(1))   # here we sort by item 1 which is dist\n",
        "\n",
        "    neighbors = []\n",
        "\n",
        "  for x in range(k):\n",
        "\n",
        "    neighbors.append(distances[x][0])\n",
        "\n",
        "    return neighbors\n"
      ],
      "metadata": {
        "id": "Lp1UuvNi8nrG"
      },
      "execution_count": 210,
      "outputs": []
    },
    {
      "cell_type": "code",
      "source": [
        " \n",
        "\n",
        "# We can test out this function as follows:\n",
        "\n",
        "#trainSet = [[7, 5, 2, 'a'], [5, 4, 3, 'b'],[5,6,8,'o'],[4,3,9,'h'],[5,3,9,'o']]      # trainingSet\n",
        "\n",
        "#testInstance = [4, 3, 9]          # testSet\n",
        "#k = 1\n",
        "\n",
        "#neighbors = getNeighbors(trainSet, testInstance, 3)\n",
        "\n",
        "#print(neighbors)"
      ],
      "metadata": {
        "id": "9VG0Awql6w7i"
      },
      "execution_count": 211,
      "outputs": []
    },
    {
      "cell_type": "code",
      "source": [
        "def getResponse(neighbors): \n",
        "  classVotes = {}     # why we use dictionary over here ?\n",
        "  for x in range(len(neighbors)): \n",
        "    response = neighbors[x][-1]   # what is [-1] and why   # [-1] is the last elament in neighbors which is 'h'\n",
        "    if response in classVotes: \n",
        "      classVotes[response] += 1   # \n",
        "    else: \n",
        "      classVotes[response] = 1 \n",
        "      sortedVotes = sorted(classVotes.items(), key=operator.itemgetter(1), reverse=True) \n",
        "      return sortedVotes[0][0] \n",
        "      "
      ],
      "metadata": {
        "id": "8rhMMRg-P-rs"
      },
      "execution_count": 212,
      "outputs": []
    },
    {
      "cell_type": "code",
      "source": [
        "def getAccuracy(testSet, predictions): \n",
        "  correct = 0 \n",
        "  for x in range(len(testSet)): \n",
        "    if testSet[x][-1] == predictions[x]: \n",
        "      correct += 1 \n",
        "      return (correct/float(len(testSet))) * 100.0 "
      ],
      "metadata": {
        "id": "--DJ4WEJWE6D"
      },
      "execution_count": 213,
      "outputs": []
    },
    {
      "cell_type": "code",
      "source": [
        "#testSet = [[1,1,1,'a'], [2,2,2,'a'], [3,3,3,'b']]\n",
        "\n",
        "#predictions = ['a', 'a', 'a']\n",
        "\n",
        "#accuracy = getAccuracy(testSet, predictions)\n",
        "\n",
        "#print(accuracy)"
      ],
      "metadata": {
        "id": "DoQYYWZUWUEe"
      },
      "execution_count": 214,
      "outputs": []
    },
    {
      "cell_type": "code",
      "source": [
        "#neighbors = [[1,1,1,'a'], [2,2,2,'a'], [3,3,3,'b']]\n",
        "\n",
        "#response = getResponse(neighbors)\n",
        "\n",
        "#print(response)"
      ],
      "metadata": {
        "id": "un5yCgmbTusY"
      },
      "execution_count": 215,
      "outputs": []
    },
    {
      "cell_type": "code",
      "source": [
        "def main(): \n",
        "# prepare data \n",
        "  trainingSet=[] \n",
        "  testSet=[] \n",
        "  split = 0.25 \n",
        "  loadDataset('/content/iris.data.txt', split, trainingSet, testSet) \n",
        "  print('Train set: ' + repr(len(trainingSet))) # we use repr to not to read this eror \"\"\n",
        "  print('Test set: ' + repr(len(testSet)))      # can only concatenate str (not \"int\") to str\n",
        "   \n",
        "  k = 3 \n",
        "  for x in range(len(testSet)): \n",
        "    neighbors = getNeighbors(trainingSet, testSet[x], k) \n",
        "    result = getResponse(neighbors) \n",
        "    predictions.append(result) \n",
        "    #print('> predicted=' + repr(result) + ', actual=' + repr(testSet[x][-1])) \n",
        "    accuracy = getAccuracy(testSet, predictions) \n",
        "print('Accuracy: ' + repr(accuracy) + '%') \n",
        "main() "
      ],
      "metadata": {
        "colab": {
          "base_uri": "https://localhost:8080/"
        },
        "id": "FZSfucjFdL2r",
        "outputId": "76cb82ea-0b2c-48ee-e5b3-a74e8ef6249a"
      },
      "execution_count": 216,
      "outputs": [
        {
          "output_type": "stream",
          "name": "stdout",
          "text": [
            "Accuracy: 33.33333333333333%\n",
            "Train set: 40\n",
            "Test set: 109\n"
          ]
        }
      ]
    },
    {
      "cell_type": "code",
      "source": [
        "def loadDataset(filename, split, trainingSet=[] , testSet=[]):    # what does split mean ?\n",
        "\n",
        "  with open(filename, 'r') as csvfile:\n",
        "\n",
        "    lines = csv.reader(csvfile)\n",
        "\n",
        "    dataset = list(lines)\n",
        "\n",
        "    for x in range(len(dataset)-1):\n",
        "\n",
        "       for y in range(4):\n",
        "\n",
        "         dataset[x][y] = float(dataset[x][y])\n",
        "\n",
        "       if random.random() < split:\n",
        "\n",
        "         trainingSet.append(dataset[x])\n",
        "\n",
        "       else:\n",
        " \n",
        "         testSet.append(dataset[x])"
      ],
      "metadata": {
        "id": "LOjOfawa2r2P"
      },
      "execution_count": 217,
      "outputs": []
    },
    {
      "cell_type": "markdown",
      "source": [
        "بداية المشكلة من هنا !!!\n"
      ],
      "metadata": {
        "id": "wL0JeWmM-ztz"
      }
    },
    {
      "cell_type": "code",
      "source": [
        "def ManhattanDistance(data_1, data_2,data_len):     \n",
        "   dist = 0\n",
        "   for i in range(data_len):\n",
        "     MD = math.abs(data_1[i] - data_1[i]) + math.abs(data_2[i] - data_2[i])\n",
        "     dist = dist + MD \n",
        "     return dist"
      ],
      "metadata": {
        "id": "EKoHDPEJ5iAj"
      },
      "execution_count": 218,
      "outputs": []
    },
    {
      "cell_type": "code",
      "source": [
        "def getNeighbors(trainingSet, testInstance, k):\n",
        "\n",
        "  distances = []\n",
        "\n",
        "  length = len(testInstance)-1\n",
        "\n",
        "  for x in range(len(trainingSet)):\n",
        "\n",
        "    dist = ManhattanDistance(testInstance, trainingSet[x], length)\n",
        "\n",
        "    distances.append((trainingSet[x], dist))\n",
        "\n",
        "    distances.sort(key=operator.itemgetter(1))   # here we sort by item 1 which is dist\n",
        "\n",
        "    neighbors = []\n",
        "\n",
        "  for x in range(k):\n",
        "\n",
        "    neighbors.append(distances[x][0])\n",
        "\n",
        "    return neighbors"
      ],
      "metadata": {
        "id": "2ANBeqAI1E0B"
      },
      "execution_count": 219,
      "outputs": []
    },
    {
      "cell_type": "code",
      "source": [
        "\n",
        "def main(): \n",
        "# prepare data \n",
        "  trainingSet=[] \n",
        "  testSet=[] \n",
        "  split = 0.66 \n",
        "  loadDataset('/content/iris.data.txt', split, trainingSet, testSet) \n",
        "  print('Train set: ' + repr(len(trainingSet))) # we use repr to not to read this eror \"\"\n",
        "  print('Test set: ' + repr(len(testSet)))      # can only concatenate str (not \"int\") to str\n",
        "   \n",
        "  k = 3 \n",
        "  for x in range(len(testSet)): \n",
        "    neighbors = getNeighbors(trainingSet, testSet[x], k) \n",
        "    result = getResponse(neighbors) \n",
        "    predictions.append(result) \n",
        "    #print('> predicted=' + repr(result) + ', actual=' + repr(testSet[x][-1])) \n",
        "    accuracy = getAccuracy(testSet, predictions) \n",
        "print('Accuracy: ' + repr(accuracy) + '%') \n",
        "main() "
      ],
      "metadata": {
        "outputId": "12c10163-162a-43cf-b651-95aec4607543",
        "colab": {
          "base_uri": "https://localhost:8080/",
          "height": 414
        },
        "id": "gXR8Koz51FKz"
      },
      "execution_count": 220,
      "outputs": [
        {
          "output_type": "stream",
          "name": "stdout",
          "text": [
            "Accuracy: 33.33333333333333%\n",
            "Train set: 107\n",
            "Test set: 42\n"
          ]
        },
        {
          "output_type": "error",
          "ename": "AttributeError",
          "evalue": "ignored",
          "traceback": [
            "\u001b[0;31m---------------------------------------------------------------------------\u001b[0m",
            "\u001b[0;31mAttributeError\u001b[0m                            Traceback (most recent call last)",
            "\u001b[0;32m<ipython-input-220-8c07518943cf>\u001b[0m in \u001b[0;36m<module>\u001b[0;34m\u001b[0m\n\u001b[1;32m     16\u001b[0m     \u001b[0maccuracy\u001b[0m \u001b[0;34m=\u001b[0m \u001b[0mgetAccuracy\u001b[0m\u001b[0;34m(\u001b[0m\u001b[0mtestSet\u001b[0m\u001b[0;34m,\u001b[0m \u001b[0mpredictions\u001b[0m\u001b[0;34m)\u001b[0m\u001b[0;34m\u001b[0m\u001b[0;34m\u001b[0m\u001b[0m\n\u001b[1;32m     17\u001b[0m \u001b[0mprint\u001b[0m\u001b[0;34m(\u001b[0m\u001b[0;34m'Accuracy: '\u001b[0m \u001b[0;34m+\u001b[0m \u001b[0mrepr\u001b[0m\u001b[0;34m(\u001b[0m\u001b[0maccuracy\u001b[0m\u001b[0;34m)\u001b[0m \u001b[0;34m+\u001b[0m \u001b[0;34m'%'\u001b[0m\u001b[0;34m)\u001b[0m\u001b[0;34m\u001b[0m\u001b[0;34m\u001b[0m\u001b[0m\n\u001b[0;32m---> 18\u001b[0;31m \u001b[0mmain\u001b[0m\u001b[0;34m(\u001b[0m\u001b[0;34m)\u001b[0m\u001b[0;34m\u001b[0m\u001b[0;34m\u001b[0m\u001b[0m\n\u001b[0m",
            "\u001b[0;32m<ipython-input-220-8c07518943cf>\u001b[0m in \u001b[0;36mmain\u001b[0;34m()\u001b[0m\n\u001b[1;32m     10\u001b[0m   \u001b[0mk\u001b[0m \u001b[0;34m=\u001b[0m \u001b[0;36m3\u001b[0m\u001b[0;34m\u001b[0m\u001b[0;34m\u001b[0m\u001b[0m\n\u001b[1;32m     11\u001b[0m   \u001b[0;32mfor\u001b[0m \u001b[0mx\u001b[0m \u001b[0;32min\u001b[0m \u001b[0mrange\u001b[0m\u001b[0;34m(\u001b[0m\u001b[0mlen\u001b[0m\u001b[0;34m(\u001b[0m\u001b[0mtestSet\u001b[0m\u001b[0;34m)\u001b[0m\u001b[0;34m)\u001b[0m\u001b[0;34m:\u001b[0m\u001b[0;34m\u001b[0m\u001b[0;34m\u001b[0m\u001b[0m\n\u001b[0;32m---> 12\u001b[0;31m     \u001b[0mneighbors\u001b[0m \u001b[0;34m=\u001b[0m \u001b[0mgetNeighbors\u001b[0m\u001b[0;34m(\u001b[0m\u001b[0mtrainingSet\u001b[0m\u001b[0;34m,\u001b[0m \u001b[0mtestSet\u001b[0m\u001b[0;34m[\u001b[0m\u001b[0mx\u001b[0m\u001b[0;34m]\u001b[0m\u001b[0;34m,\u001b[0m \u001b[0mk\u001b[0m\u001b[0;34m)\u001b[0m\u001b[0;34m\u001b[0m\u001b[0;34m\u001b[0m\u001b[0m\n\u001b[0m\u001b[1;32m     13\u001b[0m     \u001b[0mresult\u001b[0m \u001b[0;34m=\u001b[0m \u001b[0mgetResponse\u001b[0m\u001b[0;34m(\u001b[0m\u001b[0mneighbors\u001b[0m\u001b[0;34m)\u001b[0m\u001b[0;34m\u001b[0m\u001b[0;34m\u001b[0m\u001b[0m\n\u001b[1;32m     14\u001b[0m     \u001b[0mpredictions\u001b[0m\u001b[0;34m.\u001b[0m\u001b[0mappend\u001b[0m\u001b[0;34m(\u001b[0m\u001b[0mresult\u001b[0m\u001b[0;34m)\u001b[0m\u001b[0;34m\u001b[0m\u001b[0;34m\u001b[0m\u001b[0m\n",
            "\u001b[0;32m<ipython-input-219-07710ef29948>\u001b[0m in \u001b[0;36mgetNeighbors\u001b[0;34m(trainingSet, testInstance, k)\u001b[0m\n\u001b[1;32m      7\u001b[0m   \u001b[0;32mfor\u001b[0m \u001b[0mx\u001b[0m \u001b[0;32min\u001b[0m \u001b[0mrange\u001b[0m\u001b[0;34m(\u001b[0m\u001b[0mlen\u001b[0m\u001b[0;34m(\u001b[0m\u001b[0mtrainingSet\u001b[0m\u001b[0;34m)\u001b[0m\u001b[0;34m)\u001b[0m\u001b[0;34m:\u001b[0m\u001b[0;34m\u001b[0m\u001b[0;34m\u001b[0m\u001b[0m\n\u001b[1;32m      8\u001b[0m \u001b[0;34m\u001b[0m\u001b[0m\n\u001b[0;32m----> 9\u001b[0;31m     \u001b[0mdist\u001b[0m \u001b[0;34m=\u001b[0m \u001b[0mManhattanDistance\u001b[0m\u001b[0;34m(\u001b[0m\u001b[0mtestInstance\u001b[0m\u001b[0;34m,\u001b[0m \u001b[0mtrainingSet\u001b[0m\u001b[0;34m[\u001b[0m\u001b[0mx\u001b[0m\u001b[0;34m]\u001b[0m\u001b[0;34m,\u001b[0m \u001b[0mlength\u001b[0m\u001b[0;34m)\u001b[0m\u001b[0;34m\u001b[0m\u001b[0;34m\u001b[0m\u001b[0m\n\u001b[0m\u001b[1;32m     10\u001b[0m \u001b[0;34m\u001b[0m\u001b[0m\n\u001b[1;32m     11\u001b[0m     \u001b[0mdistances\u001b[0m\u001b[0;34m.\u001b[0m\u001b[0mappend\u001b[0m\u001b[0;34m(\u001b[0m\u001b[0;34m(\u001b[0m\u001b[0mtrainingSet\u001b[0m\u001b[0;34m[\u001b[0m\u001b[0mx\u001b[0m\u001b[0;34m]\u001b[0m\u001b[0;34m,\u001b[0m \u001b[0mdist\u001b[0m\u001b[0;34m)\u001b[0m\u001b[0;34m)\u001b[0m\u001b[0;34m\u001b[0m\u001b[0;34m\u001b[0m\u001b[0m\n",
            "\u001b[0;32m<ipython-input-218-5042f207f806>\u001b[0m in \u001b[0;36mManhattanDistance\u001b[0;34m(data_1, data_2, data_len)\u001b[0m\n\u001b[1;32m      2\u001b[0m    \u001b[0mdist\u001b[0m \u001b[0;34m=\u001b[0m \u001b[0;36m0\u001b[0m\u001b[0;34m\u001b[0m\u001b[0;34m\u001b[0m\u001b[0m\n\u001b[1;32m      3\u001b[0m    \u001b[0;32mfor\u001b[0m \u001b[0mi\u001b[0m \u001b[0;32min\u001b[0m \u001b[0mrange\u001b[0m\u001b[0;34m(\u001b[0m\u001b[0mdata_len\u001b[0m\u001b[0;34m)\u001b[0m\u001b[0;34m:\u001b[0m\u001b[0;34m\u001b[0m\u001b[0;34m\u001b[0m\u001b[0m\n\u001b[0;32m----> 4\u001b[0;31m      \u001b[0mMD\u001b[0m \u001b[0;34m=\u001b[0m \u001b[0mmath\u001b[0m\u001b[0;34m.\u001b[0m\u001b[0mabs\u001b[0m\u001b[0;34m(\u001b[0m\u001b[0mdata_1\u001b[0m\u001b[0;34m[\u001b[0m\u001b[0mi\u001b[0m\u001b[0;34m]\u001b[0m \u001b[0;34m-\u001b[0m \u001b[0mdata_1\u001b[0m\u001b[0;34m[\u001b[0m\u001b[0mi\u001b[0m\u001b[0;34m]\u001b[0m\u001b[0;34m)\u001b[0m \u001b[0;34m+\u001b[0m \u001b[0mmath\u001b[0m\u001b[0;34m.\u001b[0m\u001b[0mabs\u001b[0m\u001b[0;34m(\u001b[0m\u001b[0mdata_2\u001b[0m\u001b[0;34m[\u001b[0m\u001b[0mi\u001b[0m\u001b[0;34m]\u001b[0m \u001b[0;34m-\u001b[0m \u001b[0mdata_2\u001b[0m\u001b[0;34m[\u001b[0m\u001b[0mi\u001b[0m\u001b[0;34m]\u001b[0m\u001b[0;34m)\u001b[0m\u001b[0;34m\u001b[0m\u001b[0;34m\u001b[0m\u001b[0m\n\u001b[0m\u001b[1;32m      5\u001b[0m      \u001b[0mdist\u001b[0m \u001b[0;34m=\u001b[0m \u001b[0mdist\u001b[0m \u001b[0;34m+\u001b[0m \u001b[0mMD\u001b[0m\u001b[0;34m\u001b[0m\u001b[0;34m\u001b[0m\u001b[0m\n\u001b[1;32m      6\u001b[0m      \u001b[0;32mreturn\u001b[0m \u001b[0mdist\u001b[0m\u001b[0;34m\u001b[0m\u001b[0;34m\u001b[0m\u001b[0m\n",
            "\u001b[0;31mAttributeError\u001b[0m: module 'math' has no attribute 'abs'"
          ]
        }
      ]
    }
  ]
}