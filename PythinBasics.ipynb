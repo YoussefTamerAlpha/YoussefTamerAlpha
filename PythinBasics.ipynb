{
  "nbformat": 4,
  "nbformat_minor": 0,
  "metadata": {
    "colab": {
      "name": "PythinBasics.ipynb",
      "provenance": []
    },
    "kernelspec": {
      "name": "python3",
      "display_name": "Python 3"
    },
    "language_info": {
      "name": "python"
    }
  },
  "cells": [
    {
      "cell_type": "code",
      "execution_count": null,
      "metadata": {
        "id": "eV_Lquf_pm2u"
      },
      "outputs": [],
      "source": [
        "#Question 1\n",
        "\n",
        "Name1 =input(\"write your first name \")\n",
        "Name2 =input(\"write your last name \")\n",
        "print(Name2 ,  Name1 )     "
      ]
    },
    {
      "cell_type": "code",
      "source": [
        "#Question 2 \n",
        "\n",
        "n = input()\n",
        "n =int(n)\n",
        "print ((n)+(n*11)+(n*111))      "
      ],
      "metadata": {
        "id": "i7Hu82kBqfJ1"
      },
      "execution_count": null,
      "outputs": []
    },
    {
      "cell_type": "code",
      "source": [
        "#Question 3\n",
        "User_input= input(\"insert the number\")\n",
        "\n",
        "User_input=int(User_input)\n",
        "\n",
        "if User_input % 2 == 0:\n",
        "  print(\"رقم زوجى\")\n",
        "\n",
        "else :\n",
        "  print(\"رقم فردى\")       #Q3"
      ],
      "metadata": {
        "id": "DAiy3m3Oqhln"
      },
      "execution_count": null,
      "outputs": []
    },
    {
      "cell_type": "code",
      "source": [
        "#Qusetion 5\n",
        "\n",
        "x =8\n",
        "\n",
        "factorial= 1\n",
        "\n",
        "if x<0 :\n",
        "  print(\"sorry, there is no factorial for negative numberes\") \n",
        "elif x==0 :\n",
        "  print(\"the factorial of 0 is 1 \")\n",
        "else :\n",
        "  for i in range (1, x+1):\n",
        "\n",
        "    factorial = factorial*i \n",
        "  print(\"the factorial of\",x,\"is\",factorial)       #Q5"
      ],
      "metadata": {
        "id": "XCqLSpAXqj6m"
      },
      "execution_count": null,
      "outputs": []
    },
    {
      "cell_type": "code",
      "source": [
        "Question 7 \n",
        "\n",
        "price=int(input(\"enter sale amount: \"))\n",
        "\n",
        "\n",
        "if  (price>0):\n",
        "\n",
        "  if price<200 :\n",
        "    disc=0.1*price\n",
        "  elif 500>price>=200 :\n",
        "    disc=0.3*price\n",
        "  elif 500<=price:\n",
        "    disc=0.5*price  \n",
        "  \n",
        "\n",
        "  print(\"Discout  :\", disc )\n",
        "  print(\"Net Pay  : \",price-disc)\n",
        "else:\n",
        "    print(\"Invalid Amount\")       #Q7\n"
      ],
      "metadata": {
        "id": "sMiyACoFq3S9"
      },
      "execution_count": null,
      "outputs": []
    }
  ]
}