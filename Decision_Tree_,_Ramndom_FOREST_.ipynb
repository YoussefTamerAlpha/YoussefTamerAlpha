{
  "nbformat": 4,
  "nbformat_minor": 0,
  "metadata": {
    "colab": {
      "provenance": []
    },
    "kernelspec": {
      "name": "python3",
      "display_name": "Python 3"
    },
    "language_info": {
      "name": "python"
    }
  },
  "cells": [
    {
      "cell_type": "code",
      "source": [
        "from sklearn.model_selection import train_test_split\n",
        "from sklearn import tree   \n",
        "from sklearn.metrics import accuracy_score\n",
        "from sklearn.tree import DecisionTreeClassifier, export_graphviz\n",
        "import pydotplus\n",
        "from sklearn import datasets\n",
        "from sklearn.tree import DecisionTreeRegressor\n",
        "from sklearn.tree import export_text\n",
        "import pandas as pd\n",
        "from sklearn.ensemble import RandomForestClassifier #Importing Random Forest Classifier\n",
        "from sklearn import metrics  # Importing metrics to test accuracy"
      ],
      "metadata": {
        "id": "dSbXwgZ6VgtF"
      },
      "execution_count": 89,
      "outputs": []
    },
    {
      "cell_type": "code",
      "execution_count": 2,
      "metadata": {
        "id": "QsH7HaivU6TK"
      },
      "outputs": [],
      "source": [
        "import pandas as pd \n",
        "dataset=pd.read_csv(\"/content/titanic-passengers (1).csv\", sep=\";\")"
      ]
    },
    {
      "cell_type": "code",
      "source": [
        "def preprocess_data(new_data):\n",
        "    new_data['Age'].fillna(new_data['Age'].mean(),inplace=True)\n",
        "    new_data.replace({'Sex':{'male': 1,'female':0}},inplace=True)\n",
        "    new_data['Cabin']=new_data.Cabin.fillna('G6')\n",
        "    new_data.replace({'Survived':{'Yes': 1,'No':0}},inplace=True)\n",
        "    return new_data\n",
        "data=preprocess_data(dataset)"
      ],
      "metadata": {
        "id": "UlJ9Pk5qVNab"
      },
      "execution_count": 3,
      "outputs": []
    },
    {
      "cell_type": "code",
      "source": [
        "x=data.drop([\"Survived\", \"Name\", \"Cabin\", \"Ticket\", \"Embarked\"], axis=1)\n",
        "y= data[\"Survived\"]\n",
        "\n",
        "#splitting data\n",
        "x_train, x_test, y_train, y_test = train_test_split(x,y, test_size=0.30,random_state=10)"
      ],
      "metadata": {
        "id": "dSjZEPs3VVDt"
      },
      "execution_count": 101,
      "outputs": []
    },
    {
      "cell_type": "code",
      "source": [
        "x_train.head"
      ],
      "metadata": {
        "colab": {
          "base_uri": "https://localhost:8080/"
        },
        "id": "M9RLww8BFpYq",
        "outputId": "db200654-69d6-4fb3-c671-6570fdad6136"
      },
      "execution_count": 72,
      "outputs": [
        {
          "output_type": "execute_result",
          "data": {
            "text/plain": [
              "<bound method NDFrame.head of      PassengerId  Pclass  Sex   Age  SibSp  Parch     Fare\n",
              "57           117       3    1  70.5      0      0   7.7500\n",
              "717          478       3    1  29.0      1      0   7.0458\n",
              "431            4       1    0  35.0      1      0  53.1000\n",
              "633           35       1    1  28.0      1      0  82.1708\n",
              "163          859       3    0  24.0      0      3  19.2583\n",
              "..           ...     ...  ...   ...    ...    ...      ...\n",
              "369           52       3    1  21.0      0      0   7.8000\n",
              "320          395       3    0  24.0      0      2  16.7000\n",
              "527           58       3    1  28.5      0      0   7.2292\n",
              "125          314       3    1  28.0      0      0   7.8958\n",
              "265          797       1    0  49.0      0      0  25.9292\n",
              "\n",
              "[712 rows x 7 columns]>"
            ]
          },
          "metadata": {},
          "execution_count": 72
        }
      ]
    },
    {
      "cell_type": "code",
      "source": [
        "male_df = x_train[x_train['Sex']==1]"
      ],
      "metadata": {
        "id": "NI4XR7yoFGTf"
      },
      "execution_count": 76,
      "outputs": []
    },
    {
      "cell_type": "code",
      "source": [
        "male_df"
      ],
      "metadata": {
        "colab": {
          "base_uri": "https://localhost:8080/",
          "height": 424
        },
        "id": "5znC_2sHGEuw",
        "outputId": "e52a08fa-63c4-4491-cfef-f68fbf81fe2d"
      },
      "execution_count": 77,
      "outputs": [
        {
          "output_type": "execute_result",
          "data": {
            "text/plain": [
              "     PassengerId  Pclass  Sex        Age  SibSp  Parch     Fare\n",
              "57           117       3    1  70.500000      0      0   7.7500\n",
              "717          478       3    1  29.000000      1      0   7.0458\n",
              "633           35       1    1  28.000000      1      0  82.1708\n",
              "864          179       2    1  30.000000      0      0  13.0000\n",
              "467          289       2    1  42.000000      0      0  13.0000\n",
              "..           ...     ...  ...        ...    ...    ...      ...\n",
              "156          791       3    1  29.699118      0      0   7.7500\n",
              "123          648       1    1  56.000000      0      0  35.5000\n",
              "369           52       3    1  21.000000      0      0   7.8000\n",
              "527           58       3    1  28.500000      0      0   7.2292\n",
              "125          314       3    1  28.000000      0      0   7.8958\n",
              "\n",
              "[460 rows x 7 columns]"
            ],
            "text/html": [
              "\n",
              "  <div id=\"df-955d03c5-c6ce-477a-b02f-f3cb6cfd1823\">\n",
              "    <div class=\"colab-df-container\">\n",
              "      <div>\n",
              "<style scoped>\n",
              "    .dataframe tbody tr th:only-of-type {\n",
              "        vertical-align: middle;\n",
              "    }\n",
              "\n",
              "    .dataframe tbody tr th {\n",
              "        vertical-align: top;\n",
              "    }\n",
              "\n",
              "    .dataframe thead th {\n",
              "        text-align: right;\n",
              "    }\n",
              "</style>\n",
              "<table border=\"1\" class=\"dataframe\">\n",
              "  <thead>\n",
              "    <tr style=\"text-align: right;\">\n",
              "      <th></th>\n",
              "      <th>PassengerId</th>\n",
              "      <th>Pclass</th>\n",
              "      <th>Sex</th>\n",
              "      <th>Age</th>\n",
              "      <th>SibSp</th>\n",
              "      <th>Parch</th>\n",
              "      <th>Fare</th>\n",
              "    </tr>\n",
              "  </thead>\n",
              "  <tbody>\n",
              "    <tr>\n",
              "      <th>57</th>\n",
              "      <td>117</td>\n",
              "      <td>3</td>\n",
              "      <td>1</td>\n",
              "      <td>70.500000</td>\n",
              "      <td>0</td>\n",
              "      <td>0</td>\n",
              "      <td>7.7500</td>\n",
              "    </tr>\n",
              "    <tr>\n",
              "      <th>717</th>\n",
              "      <td>478</td>\n",
              "      <td>3</td>\n",
              "      <td>1</td>\n",
              "      <td>29.000000</td>\n",
              "      <td>1</td>\n",
              "      <td>0</td>\n",
              "      <td>7.0458</td>\n",
              "    </tr>\n",
              "    <tr>\n",
              "      <th>633</th>\n",
              "      <td>35</td>\n",
              "      <td>1</td>\n",
              "      <td>1</td>\n",
              "      <td>28.000000</td>\n",
              "      <td>1</td>\n",
              "      <td>0</td>\n",
              "      <td>82.1708</td>\n",
              "    </tr>\n",
              "    <tr>\n",
              "      <th>864</th>\n",
              "      <td>179</td>\n",
              "      <td>2</td>\n",
              "      <td>1</td>\n",
              "      <td>30.000000</td>\n",
              "      <td>0</td>\n",
              "      <td>0</td>\n",
              "      <td>13.0000</td>\n",
              "    </tr>\n",
              "    <tr>\n",
              "      <th>467</th>\n",
              "      <td>289</td>\n",
              "      <td>2</td>\n",
              "      <td>1</td>\n",
              "      <td>42.000000</td>\n",
              "      <td>0</td>\n",
              "      <td>0</td>\n",
              "      <td>13.0000</td>\n",
              "    </tr>\n",
              "    <tr>\n",
              "      <th>...</th>\n",
              "      <td>...</td>\n",
              "      <td>...</td>\n",
              "      <td>...</td>\n",
              "      <td>...</td>\n",
              "      <td>...</td>\n",
              "      <td>...</td>\n",
              "      <td>...</td>\n",
              "    </tr>\n",
              "    <tr>\n",
              "      <th>156</th>\n",
              "      <td>791</td>\n",
              "      <td>3</td>\n",
              "      <td>1</td>\n",
              "      <td>29.699118</td>\n",
              "      <td>0</td>\n",
              "      <td>0</td>\n",
              "      <td>7.7500</td>\n",
              "    </tr>\n",
              "    <tr>\n",
              "      <th>123</th>\n",
              "      <td>648</td>\n",
              "      <td>1</td>\n",
              "      <td>1</td>\n",
              "      <td>56.000000</td>\n",
              "      <td>0</td>\n",
              "      <td>0</td>\n",
              "      <td>35.5000</td>\n",
              "    </tr>\n",
              "    <tr>\n",
              "      <th>369</th>\n",
              "      <td>52</td>\n",
              "      <td>3</td>\n",
              "      <td>1</td>\n",
              "      <td>21.000000</td>\n",
              "      <td>0</td>\n",
              "      <td>0</td>\n",
              "      <td>7.8000</td>\n",
              "    </tr>\n",
              "    <tr>\n",
              "      <th>527</th>\n",
              "      <td>58</td>\n",
              "      <td>3</td>\n",
              "      <td>1</td>\n",
              "      <td>28.500000</td>\n",
              "      <td>0</td>\n",
              "      <td>0</td>\n",
              "      <td>7.2292</td>\n",
              "    </tr>\n",
              "    <tr>\n",
              "      <th>125</th>\n",
              "      <td>314</td>\n",
              "      <td>3</td>\n",
              "      <td>1</td>\n",
              "      <td>28.000000</td>\n",
              "      <td>0</td>\n",
              "      <td>0</td>\n",
              "      <td>7.8958</td>\n",
              "    </tr>\n",
              "  </tbody>\n",
              "</table>\n",
              "<p>460 rows × 7 columns</p>\n",
              "</div>\n",
              "      <button class=\"colab-df-convert\" onclick=\"convertToInteractive('df-955d03c5-c6ce-477a-b02f-f3cb6cfd1823')\"\n",
              "              title=\"Convert this dataframe to an interactive table.\"\n",
              "              style=\"display:none;\">\n",
              "        \n",
              "  <svg xmlns=\"http://www.w3.org/2000/svg\" height=\"24px\"viewBox=\"0 0 24 24\"\n",
              "       width=\"24px\">\n",
              "    <path d=\"M0 0h24v24H0V0z\" fill=\"none\"/>\n",
              "    <path d=\"M18.56 5.44l.94 2.06.94-2.06 2.06-.94-2.06-.94-.94-2.06-.94 2.06-2.06.94zm-11 1L8.5 8.5l.94-2.06 2.06-.94-2.06-.94L8.5 2.5l-.94 2.06-2.06.94zm10 10l.94 2.06.94-2.06 2.06-.94-2.06-.94-.94-2.06-.94 2.06-2.06.94z\"/><path d=\"M17.41 7.96l-1.37-1.37c-.4-.4-.92-.59-1.43-.59-.52 0-1.04.2-1.43.59L10.3 9.45l-7.72 7.72c-.78.78-.78 2.05 0 2.83L4 21.41c.39.39.9.59 1.41.59.51 0 1.02-.2 1.41-.59l7.78-7.78 2.81-2.81c.8-.78.8-2.07 0-2.86zM5.41 20L4 18.59l7.72-7.72 1.47 1.35L5.41 20z\"/>\n",
              "  </svg>\n",
              "      </button>\n",
              "      \n",
              "  <style>\n",
              "    .colab-df-container {\n",
              "      display:flex;\n",
              "      flex-wrap:wrap;\n",
              "      gap: 12px;\n",
              "    }\n",
              "\n",
              "    .colab-df-convert {\n",
              "      background-color: #E8F0FE;\n",
              "      border: none;\n",
              "      border-radius: 50%;\n",
              "      cursor: pointer;\n",
              "      display: none;\n",
              "      fill: #1967D2;\n",
              "      height: 32px;\n",
              "      padding: 0 0 0 0;\n",
              "      width: 32px;\n",
              "    }\n",
              "\n",
              "    .colab-df-convert:hover {\n",
              "      background-color: #E2EBFA;\n",
              "      box-shadow: 0px 1px 2px rgba(60, 64, 67, 0.3), 0px 1px 3px 1px rgba(60, 64, 67, 0.15);\n",
              "      fill: #174EA6;\n",
              "    }\n",
              "\n",
              "    [theme=dark] .colab-df-convert {\n",
              "      background-color: #3B4455;\n",
              "      fill: #D2E3FC;\n",
              "    }\n",
              "\n",
              "    [theme=dark] .colab-df-convert:hover {\n",
              "      background-color: #434B5C;\n",
              "      box-shadow: 0px 1px 3px 1px rgba(0, 0, 0, 0.15);\n",
              "      filter: drop-shadow(0px 1px 2px rgba(0, 0, 0, 0.3));\n",
              "      fill: #FFFFFF;\n",
              "    }\n",
              "  </style>\n",
              "\n",
              "      <script>\n",
              "        const buttonEl =\n",
              "          document.querySelector('#df-955d03c5-c6ce-477a-b02f-f3cb6cfd1823 button.colab-df-convert');\n",
              "        buttonEl.style.display =\n",
              "          google.colab.kernel.accessAllowed ? 'block' : 'none';\n",
              "\n",
              "        async function convertToInteractive(key) {\n",
              "          const element = document.querySelector('#df-955d03c5-c6ce-477a-b02f-f3cb6cfd1823');\n",
              "          const dataTable =\n",
              "            await google.colab.kernel.invokeFunction('convertToInteractive',\n",
              "                                                     [key], {});\n",
              "          if (!dataTable) return;\n",
              "\n",
              "          const docLinkHtml = 'Like what you see? Visit the ' +\n",
              "            '<a target=\"_blank\" href=https://colab.research.google.com/notebooks/data_table.ipynb>data table notebook</a>'\n",
              "            + ' to learn more about interactive tables.';\n",
              "          element.innerHTML = '';\n",
              "          dataTable['output_type'] = 'display_data';\n",
              "          await google.colab.output.renderOutput(dataTable, element);\n",
              "          const docLink = document.createElement('div');\n",
              "          docLink.innerHTML = docLinkHtml;\n",
              "          element.appendChild(docLink);\n",
              "        }\n",
              "      </script>\n",
              "    </div>\n",
              "  </div>\n",
              "  "
            ]
          },
          "metadata": {},
          "execution_count": 77
        }
      ]
    },
    {
      "cell_type": "code",
      "source": [
        "#applying tree algorithm\n",
        "\n",
        "model = tree.DecisionTreeClassifier(criterion=\"entropy\",max_depth=6, splitter= \"random\",random_state=1234)  \n",
        "model.fit(x_train, y_train)               # fitting our model\n",
        "y_pred=model.predict(x_test)              #   evaluating our model\n",
        "print(\"score:{}\".format(accuracy_score(y_test, y_pred)))  # accuracy_score 'this function computes subset accuracy'"
      ],
      "metadata": {
        "colab": {
          "base_uri": "https://localhost:8080/"
        },
        "id": "oK-bFkeKVwrf",
        "outputId": "9b59ab95-4980-47e6-ab53-1dc54a65a534"
      },
      "execution_count": 95,
      "outputs": [
        {
          "output_type": "stream",
          "name": "stdout",
          "text": [
            "score:0.8212290502793296\n"
          ]
        }
      ]
    },
    {
      "cell_type": "code",
      "source": [
        "regr = DecisionTreeClassifier(max_depth=2, random_state=1234)\n",
        "model = regr.fit(x, y)\n",
        "text_representation = export_text(regr)\n",
        "print(text_representation)"
      ],
      "metadata": {
        "colab": {
          "base_uri": "https://localhost:8080/"
        },
        "id": "01h66EVF5fI4",
        "outputId": "122aa6d5-de21-4640-914c-c6857d935933"
      },
      "execution_count": 92,
      "outputs": [
        {
          "output_type": "stream",
          "name": "stdout",
          "text": [
            "|--- feature_2 <= 0.50\n",
            "|   |--- feature_1 <= 2.50\n",
            "|   |   |--- class: 1\n",
            "|   |--- feature_1 >  2.50\n",
            "|   |   |--- class: 0\n",
            "|--- feature_2 >  0.50\n",
            "|   |--- feature_3 <= 6.50\n",
            "|   |   |--- class: 1\n",
            "|   |--- feature_3 >  6.50\n",
            "|   |   |--- class: 0\n",
            "\n"
          ]
        }
      ]
    },
    {
      "cell_type": "code",
      "source": [
        "import graphviz\n",
        "# DOT data\n",
        "dot_data = tree.export_graphviz(model)\n",
        "\n",
        "# Draw graph\n",
        "graph = graphviz.Source(dot_data, format=\"png\") \n",
        "graph"
      ],
      "metadata": {
        "colab": {
          "base_uri": "https://localhost:8080/",
          "height": 380
        },
        "id": "qUER20H42ewM",
        "outputId": "1a62e4f8-1640-49e0-b739-377bd0ba14d8"
      },
      "execution_count": 93,
      "outputs": [
        {
          "output_type": "execute_result",
          "data": {
            "text/plain": [
              "<graphviz.files.Source at 0x7ffa2c2a3310>"
            ],
            "image/svg+xml": "<?xml version=\"1.0\" encoding=\"UTF-8\" standalone=\"no\"?>\n<!DOCTYPE svg PUBLIC \"-//W3C//DTD SVG 1.1//EN\"\n \"http://www.w3.org/Graphics/SVG/1.1/DTD/svg11.dtd\">\n<!-- Generated by graphviz version 2.40.1 (20161225.0304)\n -->\n<!-- Title: Tree Pages: 1 -->\n<svg width=\"534pt\" height=\"269pt\"\n viewBox=\"0.00 0.00 534.00 269.00\" xmlns=\"http://www.w3.org/2000/svg\" xmlns:xlink=\"http://www.w3.org/1999/xlink\">\n<g id=\"graph0\" class=\"graph\" transform=\"scale(1 1) rotate(0) translate(4 265)\">\n<title>Tree</title>\n<polygon fill=\"#ffffff\" stroke=\"transparent\" points=\"-4,4 -4,-265 530,-265 530,4 -4,4\"/>\n<!-- 0 -->\n<g id=\"node1\" class=\"node\">\n<title>0</title>\n<polygon fill=\"none\" stroke=\"#000000\" points=\"327,-261 195,-261 195,-193 327,-193 327,-261\"/>\n<text text-anchor=\"middle\" x=\"261\" y=\"-245.8\" font-family=\"Helvetica,sans-Serif\" font-size=\"14.00\" fill=\"#000000\">X[2] &lt;= 0.5</text>\n<text text-anchor=\"middle\" x=\"261\" y=\"-230.8\" font-family=\"Helvetica,sans-Serif\" font-size=\"14.00\" fill=\"#000000\">gini = 0.473</text>\n<text text-anchor=\"middle\" x=\"261\" y=\"-215.8\" font-family=\"Helvetica,sans-Serif\" font-size=\"14.00\" fill=\"#000000\">samples = 891</text>\n<text text-anchor=\"middle\" x=\"261\" y=\"-200.8\" font-family=\"Helvetica,sans-Serif\" font-size=\"14.00\" fill=\"#000000\">value = [549, 342]</text>\n</g>\n<!-- 1 -->\n<g id=\"node2\" class=\"node\">\n<title>1</title>\n<polygon fill=\"none\" stroke=\"#000000\" points=\"250,-157 126,-157 126,-89 250,-89 250,-157\"/>\n<text text-anchor=\"middle\" x=\"188\" y=\"-141.8\" font-family=\"Helvetica,sans-Serif\" font-size=\"14.00\" fill=\"#000000\">X[1] &lt;= 2.5</text>\n<text text-anchor=\"middle\" x=\"188\" y=\"-126.8\" font-family=\"Helvetica,sans-Serif\" font-size=\"14.00\" fill=\"#000000\">gini = 0.383</text>\n<text text-anchor=\"middle\" x=\"188\" y=\"-111.8\" font-family=\"Helvetica,sans-Serif\" font-size=\"14.00\" fill=\"#000000\">samples = 314</text>\n<text text-anchor=\"middle\" x=\"188\" y=\"-96.8\" font-family=\"Helvetica,sans-Serif\" font-size=\"14.00\" fill=\"#000000\">value = [81, 233]</text>\n</g>\n<!-- 0&#45;&gt;1 -->\n<g id=\"edge1\" class=\"edge\">\n<title>0&#45;&gt;1</title>\n<path fill=\"none\" stroke=\"#000000\" d=\"M237.0971,-192.9465C230.9209,-184.1475 224.1962,-174.5672 217.761,-165.3993\"/>\n<polygon fill=\"#000000\" stroke=\"#000000\" points=\"220.5666,-163.3041 211.9566,-157.13 214.8371,-167.3258 220.5666,-163.3041\"/>\n<text text-anchor=\"middle\" x=\"207.6437\" y=\"-178.0552\" font-family=\"Helvetica,sans-Serif\" font-size=\"14.00\" fill=\"#000000\">True</text>\n</g>\n<!-- 4 -->\n<g id=\"node5\" class=\"node\">\n<title>4</title>\n<polygon fill=\"none\" stroke=\"#000000\" points=\"400,-157 268,-157 268,-89 400,-89 400,-157\"/>\n<text text-anchor=\"middle\" x=\"334\" y=\"-141.8\" font-family=\"Helvetica,sans-Serif\" font-size=\"14.00\" fill=\"#000000\">X[3] &lt;= 6.5</text>\n<text text-anchor=\"middle\" x=\"334\" y=\"-126.8\" font-family=\"Helvetica,sans-Serif\" font-size=\"14.00\" fill=\"#000000\">gini = 0.306</text>\n<text text-anchor=\"middle\" x=\"334\" y=\"-111.8\" font-family=\"Helvetica,sans-Serif\" font-size=\"14.00\" fill=\"#000000\">samples = 577</text>\n<text text-anchor=\"middle\" x=\"334\" y=\"-96.8\" font-family=\"Helvetica,sans-Serif\" font-size=\"14.00\" fill=\"#000000\">value = [468, 109]</text>\n</g>\n<!-- 0&#45;&gt;4 -->\n<g id=\"edge4\" class=\"edge\">\n<title>0&#45;&gt;4</title>\n<path fill=\"none\" stroke=\"#000000\" d=\"M284.9029,-192.9465C291.0791,-184.1475 297.8038,-174.5672 304.239,-165.3993\"/>\n<polygon fill=\"#000000\" stroke=\"#000000\" points=\"307.1629,-167.3258 310.0434,-157.13 301.4334,-163.3041 307.1629,-167.3258\"/>\n<text text-anchor=\"middle\" x=\"314.3563\" y=\"-178.0552\" font-family=\"Helvetica,sans-Serif\" font-size=\"14.00\" fill=\"#000000\">False</text>\n</g>\n<!-- 2 -->\n<g id=\"node3\" class=\"node\">\n<title>2</title>\n<polygon fill=\"none\" stroke=\"#000000\" points=\"116,-53 0,-53 0,0 116,0 116,-53\"/>\n<text text-anchor=\"middle\" x=\"58\" y=\"-37.8\" font-family=\"Helvetica,sans-Serif\" font-size=\"14.00\" fill=\"#000000\">gini = 0.1</text>\n<text text-anchor=\"middle\" x=\"58\" y=\"-22.8\" font-family=\"Helvetica,sans-Serif\" font-size=\"14.00\" fill=\"#000000\">samples = 170</text>\n<text text-anchor=\"middle\" x=\"58\" y=\"-7.8\" font-family=\"Helvetica,sans-Serif\" font-size=\"14.00\" fill=\"#000000\">value = [9, 161]</text>\n</g>\n<!-- 1&#45;&gt;2 -->\n<g id=\"edge2\" class=\"edge\">\n<title>1&#45;&gt;2</title>\n<path fill=\"none\" stroke=\"#000000\" d=\"M142.1669,-88.9777C129.2143,-79.3629 115.1465,-68.9203 102.2867,-59.3743\"/>\n<polygon fill=\"#000000\" stroke=\"#000000\" points=\"104.1499,-56.3986 94.0342,-53.2485 99.9776,-62.0193 104.1499,-56.3986\"/>\n</g>\n<!-- 3 -->\n<g id=\"node4\" class=\"node\">\n<title>3</title>\n<polygon fill=\"none\" stroke=\"#000000\" points=\"250,-53 134,-53 134,0 250,0 250,-53\"/>\n<text text-anchor=\"middle\" x=\"192\" y=\"-37.8\" font-family=\"Helvetica,sans-Serif\" font-size=\"14.00\" fill=\"#000000\">gini = 0.5</text>\n<text text-anchor=\"middle\" x=\"192\" y=\"-22.8\" font-family=\"Helvetica,sans-Serif\" font-size=\"14.00\" fill=\"#000000\">samples = 144</text>\n<text text-anchor=\"middle\" x=\"192\" y=\"-7.8\" font-family=\"Helvetica,sans-Serif\" font-size=\"14.00\" fill=\"#000000\">value = [72, 72]</text>\n</g>\n<!-- 1&#45;&gt;3 -->\n<g id=\"edge3\" class=\"edge\">\n<title>1&#45;&gt;3</title>\n<path fill=\"none\" stroke=\"#000000\" d=\"M189.4103,-88.9777C189.7519,-80.7364 190.1187,-71.887 190.4657,-63.5153\"/>\n<polygon fill=\"#000000\" stroke=\"#000000\" points=\"193.974,-63.3849 190.8913,-53.2485 186.98,-63.0949 193.974,-63.3849\"/>\n</g>\n<!-- 5 -->\n<g id=\"node6\" class=\"node\">\n<title>5</title>\n<polygon fill=\"none\" stroke=\"#000000\" points=\"383.5,-53 276.5,-53 276.5,0 383.5,0 383.5,-53\"/>\n<text text-anchor=\"middle\" x=\"330\" y=\"-37.8\" font-family=\"Helvetica,sans-Serif\" font-size=\"14.00\" fill=\"#000000\">gini = 0.444</text>\n<text text-anchor=\"middle\" x=\"330\" y=\"-22.8\" font-family=\"Helvetica,sans-Serif\" font-size=\"14.00\" fill=\"#000000\">samples = 24</text>\n<text text-anchor=\"middle\" x=\"330\" y=\"-7.8\" font-family=\"Helvetica,sans-Serif\" font-size=\"14.00\" fill=\"#000000\">value = [8, 16]</text>\n</g>\n<!-- 4&#45;&gt;5 -->\n<g id=\"edge5\" class=\"edge\">\n<title>4&#45;&gt;5</title>\n<path fill=\"none\" stroke=\"#000000\" d=\"M332.5897,-88.9777C332.2481,-80.7364 331.8813,-71.887 331.5343,-63.5153\"/>\n<polygon fill=\"#000000\" stroke=\"#000000\" points=\"335.02,-63.0949 331.1087,-53.2485 328.026,-63.3849 335.02,-63.0949\"/>\n</g>\n<!-- 6 -->\n<g id=\"node7\" class=\"node\">\n<title>6</title>\n<polygon fill=\"none\" stroke=\"#000000\" points=\"526,-53 402,-53 402,0 526,0 526,-53\"/>\n<text text-anchor=\"middle\" x=\"464\" y=\"-37.8\" font-family=\"Helvetica,sans-Serif\" font-size=\"14.00\" fill=\"#000000\">gini = 0.28</text>\n<text text-anchor=\"middle\" x=\"464\" y=\"-22.8\" font-family=\"Helvetica,sans-Serif\" font-size=\"14.00\" fill=\"#000000\">samples = 553</text>\n<text text-anchor=\"middle\" x=\"464\" y=\"-7.8\" font-family=\"Helvetica,sans-Serif\" font-size=\"14.00\" fill=\"#000000\">value = [460, 93]</text>\n</g>\n<!-- 4&#45;&gt;6 -->\n<g id=\"edge6\" class=\"edge\">\n<title>4&#45;&gt;6</title>\n<path fill=\"none\" stroke=\"#000000\" d=\"M379.8331,-88.9777C392.7857,-79.3629 406.8535,-68.9203 419.7133,-59.3743\"/>\n<polygon fill=\"#000000\" stroke=\"#000000\" points=\"422.0224,-62.0193 427.9658,-53.2485 417.8501,-56.3986 422.0224,-62.0193\"/>\n</g>\n</g>\n</svg>\n"
          },
          "metadata": {},
          "execution_count": 93
        }
      ]
    },
    {
      "cell_type": "code",
      "source": [
        "clf=RandomForestClassifier(n_estimators=10)  #Creating a random forest with 100 decision trees\n",
        "clf.fit(x_train, y_train)  #Training our model\n",
        "y_pred=clf.predict(x_test)  #testing our model\n",
        "print(\"Accuracy:\", metrics.accuracy_score(y_test, y_pred))  #Measuring the accuracy of our model"
      ],
      "metadata": {
        "colab": {
          "base_uri": "https://localhost:8080/"
        },
        "id": "PmvFYc5BKrhw",
        "outputId": "6f822139-d975-49c3-98e5-d3c2c6e4a67c"
      },
      "execution_count": 102,
      "outputs": [
        {
          "output_type": "stream",
          "name": "stdout",
          "text": [
            "Accuracy: 0.832089552238806\n"
          ]
        }
      ]
    }
  ]
}