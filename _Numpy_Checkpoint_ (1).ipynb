{
  "nbformat": 4,
  "nbformat_minor": 0,
  "metadata": {
    "colab": {
      "name": "_Numpy_Checkpoint_.ipynb",
      "provenance": []
    },
    "kernelspec": {
      "name": "python3",
      "display_name": "Python 3"
    },
    "language_info": {
      "name": "python"
    }
  },
  "cells": [
    {
      "cell_type": "code",
      "execution_count": 3,
      "metadata": {
        "colab": {
          "base_uri": "https://localhost:8080/"
        },
        "id": "Zh5bbv_NLvp2",
        "outputId": "2d21ae77-de22-476a-a8c4-ebcabe8893f2"
      },
      "outputs": [
        {
          "output_type": "stream",
          "name": "stdout",
          "text": [
            "[1, 2, 3, 4]\n"
          ]
        }
      ],
      "source": [
        "# Question No.1\n",
        "\n",
        "\n",
        "import numpy as np\n",
        "\n",
        "array = np.array([1, 2, 3, 4])\n",
        "\n",
        "list1 = array.tolist()\n",
        "\n",
        "print(list1)\n"
      ]
    },
    {
      "cell_type": "code",
      "source": [
        "# Question No.2\n",
        "\n",
        "import numpy as np\n",
        "\n",
        "two_dim = np.array([[1, 2] , [3, 4]])\n",
        "\n",
        "print(f\"{two_dim.trace()}\")\n",
        "\n"
      ],
      "metadata": {
        "colab": {
          "base_uri": "https://localhost:8080/"
        },
        "id": "zdjsii73BrEu",
        "outputId": "32b312d1-98b2-4873-b3ca-fd37a559b10d"
      },
      "execution_count": 10,
      "outputs": [
        {
          "output_type": "stream",
          "name": "stdout",
          "text": [
            "5\n"
          ]
        }
      ]
    },
    {
      "cell_type": "code",
      "source": [
        "\n",
        "# Question No.3\n",
        "\n",
        "\n",
        "two_dim = np.array([[1, 2] , [3, 5]])\n",
        "\n",
        "x = 2\n",
        "\n",
        "for element in two_dim:\n",
        "  for number in element:\n",
        "    if x<number:\n",
        "      print(number)\n",
        "\n",
        "\n",
        "\n"
      ],
      "metadata": {
        "colab": {
          "base_uri": "https://localhost:8080/"
        },
        "id": "sBQJEfziV_Ur",
        "outputId": "4c86135c-197c-45ac-cc0d-b77d2e8d6661"
      },
      "execution_count": 15,
      "outputs": [
        {
          "output_type": "stream",
          "name": "stdout",
          "text": [
            "3\n",
            "5\n"
          ]
        }
      ]
    },
    {
      "cell_type": "code",
      "source": [
        "\n",
        "# Question No.4\n",
        "\n",
        "import numpy as np\n",
        "\n",
        "A = np.array([[1, 2] , [3, 4]])\n",
        "B = np.array([[5, 6] , [7, 8]])\n",
        "\n",
        "C = np.add(A,B)\n",
        "\n",
        "print(C)\n"
      ],
      "metadata": {
        "colab": {
          "base_uri": "https://localhost:8080/"
        },
        "id": "1wESpRBwXjmZ",
        "outputId": "94f008a7-84ba-426c-b466-914b1676e34e"
      },
      "execution_count": 15,
      "outputs": [
        {
          "output_type": "stream",
          "name": "stdout",
          "text": [
            "[[ 6  8]\n",
            " [10 12]]\n"
          ]
        }
      ]
    },
    {
      "cell_type": "code",
      "source": [
        "\n",
        "# Qusetion 5\n",
        "\n",
        "import numpy as np\n",
        "\n",
        "a = np.array([[1, 2, 3] , [4, 5, 6] , [7, 8, 9]])\n",
        "\n",
        "print(f\"{a[0]-np.mean(a[0])} , {a[1]-np.mean(a[1])} , {a[2]-np.mean(a[2])}\")\n",
        "\n",
        "\n",
        "\n",
        "\n",
        "\n",
        "\n",
        "\n"
      ],
      "metadata": {
        "colab": {
          "base_uri": "https://localhost:8080/"
        },
        "id": "XXwq2aPrrQtB",
        "outputId": "b4930581-823f-4df4-9880-3eeedaa40997"
      },
      "execution_count": 26,
      "outputs": [
        {
          "output_type": "stream",
          "name": "stdout",
          "text": [
            "[-1.  0.  1.] , [-1.  0.  1.] , [-1.  0.  1.]\n"
          ]
        }
      ]
    }
  ]
}