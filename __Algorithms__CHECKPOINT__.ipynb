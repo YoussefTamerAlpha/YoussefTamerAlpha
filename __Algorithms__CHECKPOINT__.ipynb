{
  "nbformat": 4,
  "nbformat_minor": 0,
  "metadata": {
    "colab": {
      "name": "__Algorithms__CHECKPOINT__.ipynb",
      "provenance": []
    },
    "kernelspec": {
      "name": "python3",
      "display_name": "Python 3"
    },
    "language_info": {
      "name": "python"
    }
  },
  "cells": [
    {
      "cell_type": "code",
      "execution_count": 1,
      "metadata": {
        "colab": {
          "base_uri": "https://localhost:8080/"
        },
        "id": "B7HpgxBclBp1",
        "outputId": "fe94d58e-81d0-4d51-f018-08a8d8e5fc63"
      },
      "outputs": [
        {
          "output_type": "stream",
          "name": "stdout",
          "text": [
            "False not found \n",
            "\n",
            "3\n"
          ]
        }
      ],
      "source": [
        "# Question NO.1\n",
        "\n",
        "def binary_search(sequence, item):\n",
        "    begin_index = 0\n",
        "    end_index = len(sequence) - 1\n",
        "\n",
        "    while begin_index <= end_index:\n",
        "        midpoint = begin_index + (end_index - begin_index) // 2\n",
        "        midpoint_value = sequence[midpoint]\n",
        "        if midpoint_value == item:\n",
        "            return midpoint\n",
        "\n",
        "        elif item < midpoint_value:\n",
        "            end_index = midpoint - 1\n",
        "\n",
        "        else:\n",
        "            begin_index = midpoint + 1\n",
        "\n",
        "    return \"False not found\"\n",
        "\n",
        "sequence_a = [1,2,3,5,8]\n",
        "item_a = 6\n",
        "sequence_b = [1,2,3,5,8]\n",
        "item_b = 5\n",
        "\n",
        "print(binary_search(sequence_a, item_a),\"\\n\")\n",
        "print(binary_search(sequence_b, item_b))\n"
      ]
    },
    {
      "cell_type": "code",
      "source": [
        "# Question NO.2\n",
        "\n",
        "\n",
        "def power(base,power):\n",
        "    counter = 1\n",
        "    while power > 0:\n",
        "        counter = counter * base\n",
        "        power = power - 1\n",
        "\n",
        "    return counter\n",
        "\n",
        "base = 3\n",
        "pwr = 6\n",
        "print(power(base,pwr))"
      ],
      "metadata": {
        "colab": {
          "base_uri": "https://localhost:8080/"
        },
        "id": "FCog3Qf2mEaL",
        "outputId": "e3576d12-258b-4e54-fc9e-337e0e9254c4"
      },
      "execution_count": 4,
      "outputs": [
        {
          "output_type": "stream",
          "name": "stdout",
          "text": [
            "729\n"
          ]
        }
      ]
    },
    {
      "cell_type": "code",
      "source": [
        "# Question NO.3\n",
        "\n",
        "\n",
        "\n",
        "def bubble_sort(sequence):\n",
        "    length = len(sequence)-1\n",
        "    x = False\n",
        "    while not x:\n",
        "        x = True\n",
        "        for i in range(0,length):\n",
        "            if sequence[i] > sequence[i+1]:\n",
        "                x = False\n",
        "                sequence[i] , sequence[i+1] = sequence[i+1] , sequence[i]\n",
        "    return sequence\n",
        "x =  [29,13,22,37,52,49,46,71,56]\n",
        "print(bubble_sort(x))"
      ],
      "metadata": {
        "colab": {
          "base_uri": "https://localhost:8080/"
        },
        "id": "jgXPxDFQl7jA",
        "outputId": "d9465011-4068-4d7e-ff2b-b416b6e042d5"
      },
      "execution_count": 3,
      "outputs": [
        {
          "output_type": "stream",
          "name": "stdout",
          "text": [
            "[13, 22, 29, 37, 46, 49, 52, 56, 71]\n"
          ]
        }
      ]
    },
    {
      "cell_type": "code",
      "source": [
        "# Question NO.4\n",
        "\n",
        "\n",
        "def mergeSort(liss):\n",
        "    if len(liss) > 1:\n",
        "        mid = len(liss) // 2\n",
        "        left_list=liss[:mid]\n",
        "        right_list=liss[mid:]\n",
        "\n",
        "        mergeSort(left_list)\n",
        "        mergeSort(right_list)\n",
        "        i = 0\n",
        "        j = 0\n",
        "        k = 0\n",
        "        while i < len(left_list) and j < len(right_list):\n",
        "            if left_list[i] <= right_list[j]:\n",
        "                liss[k] = left_list[i]\n",
        "                i += 1\n",
        "            else:\n",
        "                liss[k] = right_list[j]\n",
        "                j += 1\n",
        "            k += 1\n",
        "\n",
        "\n",
        "        while i < len(left_list):\n",
        "            liss[k] = left_list[i]\n",
        "            i += 1\n",
        "            k += 1\n",
        "        while j < len(right_list):\n",
        "            liss[k] = right_list[j]\n",
        "            j += 1\n",
        "            k += 1\n",
        "\n",
        "\n",
        "\n",
        "\n",
        "myList = [29,13,22,37,52,49,46,71,56]\n",
        "mergeSort(myList)\n",
        "print(myList)"
      ],
      "metadata": {
        "colab": {
          "base_uri": "https://localhost:8080/"
        },
        "id": "rdM6ba2BmREb",
        "outputId": "ef554556-5d95-488e-8539-86a62e2c3527"
      },
      "execution_count": 5,
      "outputs": [
        {
          "output_type": "stream",
          "name": "stdout",
          "text": [
            "[13, 22, 29, 37, 46, 49, 52, 56, 71]\n"
          ]
        }
      ]
    },
    {
      "cell_type": "code",
      "source": [
        "# Question NO.5\n",
        "\n",
        "def quick_sort(sequence):\n",
        "    length = len(sequence)\n",
        "    if length <= 1:\n",
        "        return sequence\n",
        "    else :\n",
        "        pivot = sequence.pop()\n",
        "    items_greater = []\n",
        "    items_lower = []\n",
        "    for items in sequence:\n",
        "        if items > pivot:\n",
        "            items_greater.append(items)\n",
        "        else:\n",
        "            items_lower.append(items)\n",
        "    return quick_sort(items_lower) + [pivot] + quick_sort(items_greater)\n",
        "x = [29,13,22,37,52,49,46,71,56]\n",
        "print(quick_sort(x))\n"
      ],
      "metadata": {
        "colab": {
          "base_uri": "https://localhost:8080/"
        },
        "id": "vqM4kwLYma9c",
        "outputId": "6913c9fc-d283-49cd-a34b-cfef1402c048"
      },
      "execution_count": 6,
      "outputs": [
        {
          "output_type": "stream",
          "name": "stdout",
          "text": [
            "[13, 22, 29, 37, 46, 49, 52, 56, 71]\n"
          ]
        }
      ]
    }
  ]
}