{
  "nbformat": 4,
  "nbformat_minor": 0,
  "metadata": {
    "colab": {
      "name": "Data structare Checkpoint.ipynb",
      "provenance": []
    },
    "kernelspec": {
      "name": "python3",
      "display_name": "Python 3"
    },
    "language_info": {
      "name": "python"
    }
  },
  "cells": [
    {
      "cell_type": "code",
      "execution_count": 1,
      "metadata": {
        "colab": {
          "base_uri": "https://localhost:8080/"
        },
        "id": "1JzXmy3PJBrA",
        "outputId": "b94f285f-79e2-492b-bfc9-62713d87c745"
      },
      "outputs": [
        {
          "output_type": "stream",
          "name": "stdout",
          "text": [
            "36\n"
          ]
        }
      ],
      "source": [
        "#Question 1\n",
        "my_list = [2,3,6]\n",
        "eq = my_list[0]*my_list[1]*my_list[2]\n",
        "print(eq)"
      ]
    },
    {
      "cell_type": "code",
      "source": [
        "#Question 2\n",
        "\n",
        "x = [(2, 5), (1, 2), (4, 4), (2, 3), (2, 1)]\n",
        "for j in range(len(x)-1):\n",
        "  for i in range(len(x)-1):\n",
        "    if x[i][-1] > x[i+1][-1]:\n",
        "      temp = x[i] \n",
        "      x[i]=x[i+1]\n",
        "      x[i+1] = temp\n",
        "      print(x)"
      ],
      "metadata": {
        "colab": {
          "base_uri": "https://localhost:8080/"
        },
        "id": "IfT5cLBDJnBR",
        "outputId": "fe99a1b9-b625-4b29-8daa-e4e5d74b5da0"
      },
      "execution_count": 2,
      "outputs": [
        {
          "output_type": "stream",
          "name": "stdout",
          "text": [
            "[(1, 2), (2, 5), (4, 4), (2, 3), (2, 1)]\n",
            "[(1, 2), (4, 4), (2, 5), (2, 3), (2, 1)]\n",
            "[(1, 2), (4, 4), (2, 3), (2, 5), (2, 1)]\n",
            "[(1, 2), (4, 4), (2, 3), (2, 1), (2, 5)]\n",
            "[(1, 2), (2, 3), (4, 4), (2, 1), (2, 5)]\n",
            "[(1, 2), (2, 3), (2, 1), (4, 4), (2, 5)]\n",
            "[(1, 2), (2, 1), (2, 3), (4, 4), (2, 5)]\n",
            "[(2, 1), (1, 2), (2, 3), (4, 4), (2, 5)]\n"
          ]
        }
      ]
    },
    {
      "cell_type": "code",
      "source": [
        "#Question 3\n",
        "\n",
        "d1 = {'a': 100, 'b': 200, 'c':300}\n",
        "d2 = {'a': 300, 'b': 200, 'd':400}\n",
        "\n",
        "for i in d2 :\n",
        "    if i in d1 :\n",
        "        d1[ i ] = d1[ i ] +d2[ i ]\n",
        "    else :\n",
        "        d1[ i ] = d2[ i ]\n",
        "print(d1)  "
      ],
      "metadata": {
        "colab": {
          "base_uri": "https://localhost:8080/"
        },
        "id": "iMd49ioPKzaj",
        "outputId": "2c5442de-56e2-494e-d673-20f5e98220a5"
      },
      "execution_count": 3,
      "outputs": [
        {
          "output_type": "stream",
          "name": "stdout",
          "text": [
            "{'a': 400, 'b': 400, 'c': 300, 'd': 400}\n"
          ]
        }
      ]
    },
    {
      "cell_type": "code",
      "source": [
        "#Question 4 \n",
        "\n",
        "k = {}\n",
        "n = 8\n",
        "for i in range(1 ,n+1):\n",
        "  k[i]= i*i\n",
        "print(k)"
      ],
      "metadata": {
        "colab": {
          "base_uri": "https://localhost:8080/"
        },
        "id": "ZTHOp1BBLFKO",
        "outputId": "e4d249fd-72b0-4fa7-f43f-19e5ecb606c1"
      },
      "execution_count": 6,
      "outputs": [
        {
          "output_type": "stream",
          "name": "stdout",
          "text": [
            "{1: 1, 2: 4, 3: 9, 4: 16, 5: 25, 6: 36, 7: 49, 8: 64}\n"
          ]
        }
      ]
    },
    {
      "cell_type": "code",
      "source": [
        "#Question 5\n",
        "\n",
        "x = [('item1', '12.20'), ('item2', '15.10'), ('item3', '24.5')]\n",
        "for j in range(len(x)-1):\n",
        "  for i in range(len(x)-1):\n",
        "    if float(x[i][-1]) < float(x[i+1][-1]):\n",
        "     x[i], x[i+1] = x[i+1], x[i] \n",
        "print(x)"
      ],
      "metadata": {
        "id": "MDm_BLMuLX7v"
      },
      "execution_count": null,
      "outputs": []
    }
  ]
}