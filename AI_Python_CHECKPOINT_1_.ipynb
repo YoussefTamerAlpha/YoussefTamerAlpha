{
  "nbformat": 4,
  "nbformat_minor": 0,
  "metadata": {
    "colab": {
      "name": "AI_Python_CHECKPOINT_1_.ipynb",
      "provenance": []
    },
    "kernelspec": {
      "name": "python3",
      "display_name": "Python 3"
    },
    "language_info": {
      "name": "python"
    }
  },
  "cells": [
    {
      "cell_type": "code",
      "execution_count": 18,
      "metadata": {
        "colab": {
          "base_uri": "https://localhost:8080/"
        },
        "id": "GXHAJBbU34Bj",
        "outputId": "68a493ac-dabc-4e64-9156-5c0ddf20899f"
      },
      "outputs": [
        {
          "output_type": "stream",
          "name": "stdout",
          "text": [
            "['2002', '2009', '2016', '2023', '2037', '2044', '2051', '2058', '2072', '2079', '2086', '2093', '2107', '2114', '2121', '2128', '2142', '2149', '2156', '2163', '2177', '2184', '2191', '2198', '2212', '2219', '2226', '2233', '2247', '2254', '2261', '2268', '2282', '2289', '2296', '2303', '2317', '2324', '2331', '2338', '2352', '2359', '2366', '2373', '2387', '2394', '2401', '2408', '2422', '2429', '2436', '2443', '2457', '2464', '2471', '2478', '2492', '2499', '2506', '2513', '2527', '2534', '2541', '2548', '2562', '2569', '2576', '2583', '2597', '2604', '2611', '2618', '2632', '2639', '2646', '2653', '2667', '2674', '2681', '2688', '2702', '2709', '2716', '2723', '2737', '2744', '2751', '2758', '2772', '2779', '2786', '2793', '2807', '2814', '2821', '2828', '2842', '2849', '2856', '2863', '2877', '2884', '2891', '2898', '2912', '2919', '2926', '2933', '2947', '2954', '2961', '2968', '2982', '2989', '2996', '3003', '3017', '3024', '3031', '3038', '3052', '3059', '3066', '3073', '3087', '3094', '3101', '3108', '3122', '3129', '3136', '3143', '3157', '3164', '3171', '3178', '3192', '3199']\n"
          ]
        }
      ],
      "source": [
        "\n",
        "# Question 1\n",
        "\n",
        "l=[]\n",
        "\n",
        "for i in range(2000,3200):\n",
        "  if (i%7==0) and (i%5!=0):\n",
        "     l.append(str(i))\n",
        "\n",
        "print(l)\n",
        "\n"
      ]
    },
    {
      "cell_type": "code",
      "source": [
        "\n",
        "# Question 2 \n",
        "\n",
        "x = int(input())\n",
        "\n",
        "factorial= 1      #2,3,4,5,6,7,8\n",
        "\n",
        "if x<0 :\n",
        "  print(\"sorry, there is no factorial for negative numberes\") \n",
        "elif x==0 :\n",
        "  print(\"the factorial of 0 is 1 \")\n",
        "else :\n",
        "  for i in range (1, x+1):\n",
        "\n",
        "    factorial = factorial*i \n",
        "  print(\"the factorial of\",x,\"is\",factorial)    #1*2*3*4*5*6*7*8 = 40320"
      ],
      "metadata": {
        "colab": {
          "base_uri": "https://localhost:8080/"
        },
        "id": "sfgrOLV6Jk3z",
        "outputId": "0f8f1a77-4949-447d-d6f7-a2829d46c6e3"
      },
      "execution_count": 3,
      "outputs": [
        {
          "output_type": "stream",
          "name": "stdout",
          "text": [
            "4\n",
            "the factorial of 4 is 24\n"
          ]
        }
      ]
    },
    {
      "cell_type": "code",
      "source": [
        "\n",
        "# Question 3\n",
        "\n",
        "n = int(input())\n",
        "\n",
        "dic = {}\n",
        "\n",
        "for i in range(1,n+1):\n",
        "  dic[i]=i*i\n",
        "\n",
        "\n",
        "print(dic)"
      ],
      "metadata": {
        "colab": {
          "base_uri": "https://localhost:8080/"
        },
        "id": "czJENPpFIHHn",
        "outputId": "3a949dc6-faec-4a47-d861-c06856534f04"
      },
      "execution_count": 16,
      "outputs": [
        {
          "output_type": "stream",
          "name": "stdout",
          "text": [
            "8\n",
            "{1: 1, 2: 4, 3: 9, 4: 16, 5: 25, 6: 36, 7: 49, 8: 64}\n"
          ]
        }
      ]
    },
    {
      "cell_type": "code",
      "source": [
        "\n",
        "# Question 4 , method one\n",
        "\n",
        "mystr=\"Hello\"\n",
        "index=0\n",
        "if len(mystr) > index:\n",
        "  mystr  = mystr[0:index] + mystr[index+1:]\n",
        "\n",
        "elif index == 0 :\n",
        "  mystr = mystr[1:-1]                \n",
        "else :                        \n",
        "  print(\"sorry this is out of range\")\n",
        "\n",
        "print(mystr)"
      ],
      "metadata": {
        "id": "E4hKAX5Adrtq",
        "outputId": "40642cb6-fdd3-4140-cc4b-e89ca3fa1406",
        "colab": {
          "base_uri": "https://localhost:8080/"
        }
      },
      "execution_count": 38,
      "outputs": [
        {
          "output_type": "stream",
          "name": "stdout",
          "text": [
            "ello\n"
          ]
        }
      ]
    },
    {
      "cell_type": "code",
      "source": [
        "\n",
        "# Question 4, method two\n",
        "\n",
        "def missing_char(mystr,index):\n",
        "\n",
        "  if len(mystr) > index:\n",
        "     mystr  = mystr[0:index] + mystr[index+1:]\n",
        "\n",
        "  # elif index == 0 :\n",
        "  #    mystr = mystr[1:]\n",
        "  else :\n",
        "     print(\"sorry this is out of range\")\n",
        "  return mystr\n",
        "\n",
        "print(missing_char(\"Hello\",0))"
      ],
      "metadata": {
        "colab": {
          "base_uri": "https://localhost:8080/"
        },
        "id": "wUi20zqvPIBQ",
        "outputId": "0fec3aba-977a-4c78-b411-13785297c55e"
      },
      "execution_count": 29,
      "outputs": [
        {
          "output_type": "stream",
          "name": "stdout",
          "text": [
            "ello\n"
          ]
        }
      ]
    },
    {
      "cell_type": "code",
      "source": [
        "\n",
        "# Question 5\n",
        "\n",
        "import numpy as np\n",
        "\n",
        "array = np.array([[0, 1], [2, 3], [4, 5]])\n",
        "\n",
        "NEWlist = array.tolist()\n",
        "\n",
        "print(array)\n",
        "print(NEWlist)\n"
      ],
      "metadata": {
        "id": "4ocu726NeW-1",
        "outputId": "ce4ec3c2-62e5-4552-cc62-67913e27827c",
        "colab": {
          "base_uri": "https://localhost:8080/"
        }
      },
      "execution_count": 8,
      "outputs": [
        {
          "output_type": "stream",
          "name": "stdout",
          "text": [
            "[[0 1]\n",
            " [2 3]\n",
            " [4 5]]\n",
            "[[0, 1], [2, 3], [4, 5]]\n"
          ]
        }
      ]
    },
    {
      "cell_type": "code",
      "source": [
        "\n",
        "# Question 6 \n",
        "\n",
        "import numpy as np\n",
        "\n",
        "A =np.array([0, 1, 2])   \n",
        "\n",
        "B =np.array([2, 1, 0]) \n",
        "\n",
        "print(\"We have two arrays :\", A,B)\n",
        "print(\"The covariance between these two arrays:\", np.cov(A,B))\n",
        "\n",
        "\n",
        "\n",
        "\n"
      ],
      "metadata": {
        "colab": {
          "base_uri": "https://localhost:8080/"
        },
        "id": "HYguEUFNRBfU",
        "outputId": "546e1a4b-f2fe-4bb9-d4e5-4e48f6df4a05"
      },
      "execution_count": 17,
      "outputs": [
        {
          "output_type": "stream",
          "name": "stdout",
          "text": [
            "We have two arrays : [0 1 2] [2 1 0]\n",
            "The covariance between these two arrays: [[ 1. -1.]\n",
            " [-1.  1.]]\n"
          ]
        }
      ]
    },
    {
      "cell_type": "code",
      "source": [
        "\n",
        "# Question 7\n",
        "\n",
        "import math\n",
        "C = 50\n",
        "H = 30\n",
        "\n",
        "D = input(\"Plz enter spreated values\").split(\",\")\n",
        "n = len(D)\n",
        "\n",
        "for i in D:\n",
        "\n",
        "  Q= round(math.sqrt((2 * C * int(i))/H))\n",
        "\n",
        "  print(Q)\n"
      ],
      "metadata": {
        "id": "GPVonRaLIRJQ",
        "outputId": "5b9b80a5-c11d-41ef-f56c-8ca4ba4c36a0",
        "colab": {
          "base_uri": "https://localhost:8080/"
        }
      },
      "execution_count": 18,
      "outputs": [
        {
          "output_type": "stream",
          "name": "stdout",
          "text": [
            "Plz enter spreated values100,150,180\n",
            "18\n",
            "22\n",
            "24\n"
          ]
        }
      ]
    }
  ]
}