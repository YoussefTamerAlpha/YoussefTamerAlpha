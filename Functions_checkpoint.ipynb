{
  "nbformat": 4,
  "nbformat_minor": 0,
  "metadata": {
    "colab": {
      "name": "Functions_checkpoint.ipynb",
      "provenance": []
    },
    "kernelspec": {
      "name": "python3",
      "display_name": "Python 3"
    },
    "language_info": {
      "name": "python"
    }
  },
  "cells": [
    {
      "cell_type": "code",
      "execution_count": 1,
      "metadata": {
        "colab": {
          "base_uri": "https://localhost:8080/"
        },
        "id": "ppNIFzNdwazM",
        "outputId": "d775b884-ba94-4ef8-c458-2446abf21a4a"
      },
      "outputs": [
        {
          "output_type": "stream",
          "name": "stdout",
          "text": [
            "35\n"
          ]
        }
      ],
      "source": [
        "#Question 1\n",
        "\n",
        "a = 20\n",
        "b = 35\n",
        "c = 19 \n",
        "\n",
        "def maximum(a,b,c):\n",
        "  if (a>b) and (a>c):\n",
        "    largest = a\n",
        "  elif (b>c) and (b>a):\n",
        "    largest = b\n",
        "  else :\n",
        "    largest = c\n",
        "  return largest\n",
        "\n",
        "print(maximum(a,b,c))                #Q1\n"
      ]
    },
    {
      "cell_type": "code",
      "source": [
        "#Question 2\n",
        "\n",
        "def calc(a,b):\n",
        "  return a+b , a-b \n",
        "print(calc(40,10))                   #Q2\n"
      ],
      "metadata": {
        "colab": {
          "base_uri": "https://localhost:8080/"
        },
        "id": "-JdFgATMwrkX",
        "outputId": "0074467c-0991-4e27-f2b8-cd01da0cf3cb"
      },
      "execution_count": 2,
      "outputs": [
        {
          "output_type": "stream",
          "name": "stdout",
          "text": [
            "(50, 30)\n"
          ]
        }
      ]
    },
    {
      "cell_type": "code",
      "source": [
        "#Question 3\n",
        "\n",
        "x = [10,12,8,25]\n",
        "\n",
        "for i in range(len(x)-1):\n",
        "  sum = x[i] +x[i+1] \n",
        "print(sum)                           #Q3\n"
      ],
      "metadata": {
        "colab": {
          "base_uri": "https://localhost:8080/"
        },
        "id": "tcYlVu6fwxaN",
        "outputId": "e6db8848-d19a-4c8f-cc5f-8f4f2d2b1e99"
      },
      "execution_count": 3,
      "outputs": [
        {
          "output_type": "stream",
          "name": "stdout",
          "text": [
            "33\n"
          ]
        }
      ]
    },
    {
      "cell_type": "code",
      "source": [
        "#Question 4\n",
        "\n",
        "unSorted = \"green-red-yellow-black-white\"\n",
        "\n",
        "def sorting(x):\n",
        "  f = x.split(\"-\")\n",
        "  f.sort()\n",
        "  return f\n",
        "print(sorting(unSorted))             #Q4\n"
      ],
      "metadata": {
        "colab": {
          "base_uri": "https://localhost:8080/"
        },
        "id": "UPI_HsxJw0pa",
        "outputId": "84afdbea-7b51-40d3-c5bd-c27d599654b4"
      },
      "execution_count": 4,
      "outputs": [
        {
          "output_type": "stream",
          "name": "stdout",
          "text": [
            "['black', 'green', 'red', 'white', 'yellow']\n"
          ]
        }
      ]
    },
    {
      "cell_type": "code",
      "source": [
        "#Question 5 (Bonus)\n",
        "\n",
        "d = int(input())\n",
        "\n",
        "#x//1\n",
        "\n",
        "def myfunction(D,C,H):\n",
        "  Q = ((2*C*D)/H)**2\n",
        "  X = Q//1\n",
        "  return X\n",
        "\n",
        "print(myfunction(d,50,30))          #Q5"
      ],
      "metadata": {
        "colab": {
          "base_uri": "https://localhost:8080/"
        },
        "id": "ZSJijP1Rw4Km",
        "outputId": "60cf22f9-b263-4b0b-c04b-86daa82547e9"
      },
      "execution_count": 6,
      "outputs": [
        {
          "output_type": "stream",
          "name": "stdout",
          "text": [
            "100\n",
            "111111.0\n"
          ]
        }
      ]
    }
  ]
}